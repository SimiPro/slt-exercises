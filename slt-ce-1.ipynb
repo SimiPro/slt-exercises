{
 "cells": [
  {
   "cell_type": "markdown",
   "metadata": {},
   "source": [
    "# SLT-CE-1: Locally Linear Embedding"
   ]
  },
  {
   "cell_type": "markdown",
   "metadata": {},
   "source": [
    "<h2 style=\"background-color:#f0b375;\"> Setup </h2>"
   ]
  },
  {
   "cell_type": "code",
   "execution_count": 2,
   "metadata": {},
   "outputs": [],
   "source": [
    "import matplotlib.pyplot as plt\n",
    "import tensorflow as tf\n",
    "import sklearn as skl\n",
    "import numpy as np\n",
    "%matplotlib inline  \n",
    "\n",
    "from tensorflow.examples.tutorials.mnist import input_data\n",
    "from sklearn.utils.validation import check_is_fitted"
   ]
  },
  {
   "cell_type": "code",
   "execution_count": 3,
   "metadata": {},
   "outputs": [
    {
     "name": "stdout",
     "output_type": "stream",
     "text": [
      "Extracting MNIST_data/train-images-idx3-ubyte.gz\n",
      "Extracting MNIST_data/train-labels-idx1-ubyte.gz\n",
      "Extracting MNIST_data/t10k-images-idx3-ubyte.gz\n",
      "Extracting MNIST_data/t10k-labels-idx1-ubyte.gz\n"
     ]
    }
   ],
   "source": [
    "mnist = input_data.read_data_sets(\"MNIST_data/\", one_hot=False)"
   ]
  },
  {
   "cell_type": "markdown",
   "metadata": {},
   "source": [
    "<p style=\"background-color:#adebad;\">\n",
    "The MNIST data set contains three sets: **mnist.train, mnist.validation, mnist.test**  \n",
    "Each of them is a numpy array with samples along rows, and pixels along columns.   \n",
    "The original shape of the images is 28x28 = 784.\n",
    "</p>"
   ]
  },
  {
   "cell_type": "code",
   "execution_count": 4,
   "metadata": {},
   "outputs": [
    {
     "data": {
      "text/plain": [
       "(55000, 784)"
      ]
     },
     "execution_count": 4,
     "metadata": {},
     "output_type": "execute_result"
    }
   ],
   "source": [
    "mnist.train.images.shape"
   ]
  },
  {
   "cell_type": "code",
   "execution_count": 5,
   "metadata": {},
   "outputs": [
    {
     "data": {
      "text/plain": [
       "(5000, 784)"
      ]
     },
     "execution_count": 5,
     "metadata": {},
     "output_type": "execute_result"
    }
   ],
   "source": [
    "mnist.validation.images.shape"
   ]
  },
  {
   "cell_type": "code",
   "execution_count": 6,
   "metadata": {},
   "outputs": [
    {
     "data": {
      "text/plain": [
       "(10000, 784)"
      ]
     },
     "execution_count": 6,
     "metadata": {},
     "output_type": "execute_result"
    }
   ],
   "source": [
    "mnist.test.images.shape"
   ]
  },
  {
   "cell_type": "code",
   "execution_count": 7,
   "metadata": {},
   "outputs": [
    {
     "data": {
      "image/png": "[encoded data removed]",
      "text/plain": [
       "<matplotlib.figure.Figure at 0x7ff367027cf8>"
      ]
     },
     "metadata": {},
     "output_type": "display_data"
    }
   ],
   "source": [
    "plt.matshow(mnist.train.images[2].reshape(28,28))\n",
    "plt.show()"
   ]
  },
  {
   "cell_type": "markdown",
   "metadata": {},
   "source": [
    "<h2 style=\"background-color:#f0b375;\">\n",
    "Problem 0  \n",
    "<span style=font-size:50%> Complete all Problems to get the grade \"1\" </span>\n",
    "</h2>\n",
    "\n",
    "<p style=\"background-color:#adebad;\">\n",
    "    Shortly recapitulate the Locally Linear Embedding (LLE) algorithm, and the involved formulas.\n",
    "</p>"
   ]
  },
  {
   "cell_type": "markdown",
   "metadata": {},
   "source": [
    "# Locally Linear Embedding (LLE) Algorithm\n",
    "\n",
    "1. LLE is in difference to PCA a non linear dimension reduction. \n",
    "2. It gets this non linearity by considering its nearest neighbours.\n",
    "3. Cost function: $E[W] = \\sum_i|X_i - \\sum_j W_{ij}X_j|^2$ which is the standard lsq error commonly encoutert in encode / decode algorithms. $W_{ij}$ describes the \"significance\" of the $X_j$ feature point to the i'th reconstruction. \n",
    "4. W is then got by minimizing the cost function in 3. subject to the 2 constraints: \n",
    "  1. $W_{ij} = 0$ if $X_j$ is no neightbour of $X_i$ (defined by some neighboring function)\n",
    "  2. $\\sum_j W_{ij} = 1$ normalization constraint which also enforces translation invariance. \n",
    "5. After minimizing this cost function and optaining an optimal W we concentrate on the lower dimensional representation with a pretty similar cost function: $\\phi(Y) = \\sum_i | Y_i - \\sum_j W_{ij} Y_j| ^2$ where we try to find an d-dimensional $Y_i$ which is a lower dimensional representation of the corresponding $X_i$ \n",
    "7. For completions sake the lsq solutions of the above terms are: \n",
    "\n",
    "\n",
    "\n",
    "\n"
   ]
  },
  {
   "cell_type": "markdown",
   "metadata": {},
   "source": [
    "<h2 style=\"background-color:#f0b375;\"> Problem 1 </h2>\n",
    "\n",
    "<p style=\"background-color:#adebad;\">\n",
    "    Implement the <b>fit method</b> for the template class LocallyLinearEmbedding, according to the contract outlined in its docstring.\n",
    "</p>"
   ]
  },
  {
   "cell_type": "code",
   "execution_count": 15,
   "metadata": {},
   "outputs": [],
   "source": [
    "from sklearn.neighbors import NearestNeighbors,kneighbors_graph\n",
    "\n",
    "\n",
    "\n",
    "class LocallyLinearEmbedding(skl.base.BaseEstimator, skl.base.TransformerMixin):\n",
    "    \"\"\"Template class for LLE, compare to `sklearn LLE`_.\n",
    "    \n",
    "    Attributes:\n",
    "        embedding_vectors_ (np.ndarray): Embedding of input X with shape (samples, n_components)\n",
    "        nbrs_X (e.g. sklearn.neighbors.KDTree): NearestNeighbors (NN) object, stores NN for training set X.\n",
    "        nbrs_y (e.g. sklearn.neighbors.KDTree): NearestNeighbors (NN) object, stores NN for embedding_vectors_.\n",
    "        M_ (np.array): Symmetric matrix (dim, dim), used in quadratic form for embedding.\n",
    "        X_ (np.array): Copy of training set wioth shape (samples, dim).\n",
    "    \n",
    "       .. _`sklearn LLE`: http://scikit-learn.org/stable/modules/generated/sklearn.manifold.LocallyLinearEmbedding.html\n",
    "    \"\"\"\n",
    "    \n",
    "    def __init__(self, n_neighbors=5, n_components=2):\n",
    "        self.n_neighbors = n_neighbors\n",
    "        self.n_components = n_components\n",
    "        self.nbrs_X = [] # NN of each X_i\n",
    "        self.nbrs_y = [] # NN of each y_i\n",
    "        self.REG = 1e-3\n",
    "        self.TOL = 1e-5\n",
    "        self.MAX_ITER = 100\n",
    "    \n",
    "    def fit(self, X):\n",
    "        \"\"\"Compute LLE embedding of vectors X\n",
    "        \n",
    "        First, compute nbrs_X and M_.\n",
    "        Finally, compute embedding_vectors_.\n",
    "        \n",
    "        Args:\n",
    "            X (np.ndarray): Input array with shape (samples, dim)\n",
    "        \n",
    "        Returns:\n",
    "            self\n",
    "        \"\"\"\n",
    "        K = self.n_neighbors\n",
    "        d_out = self.n_components\n",
    "        N, d_in = X.shape\n",
    "        self.X_ = X\n",
    "        \n",
    "        \n",
    "        ### Calculate Nearest Neighbors\n",
    "        knn = NearestNeighbors(K + 1,  metric=\"euclidean\", algorithm=\"ball_tree\")\n",
    "        knn.fit(X)\n",
    "        self.nbrs_X = knn\n",
    "        X_NN_INDX = knn.kneighbors(X, return_distance=False)[:,1:]\n",
    "        Z = X[X_NN_INDX]\n",
    "        ###\n",
    "        \n",
    "        ## Calculate W\n",
    "        n_samples, n_neighbors = X.shape[0], Z.shape[1]\n",
    "        W = np.empty((n_samples, n_neighbors))\n",
    "        v = np.ones(n_neighbors)\n",
    "        \n",
    "        from scipy import linalg, sparse\n",
    "        \n",
    "        for i, A in enumerate(Z.transpose(0, 2, 1)):\n",
    "            C = A.T - X[i]\n",
    "            G = np.dot(C, C.T)\n",
    "            trace = np.trace(G)\n",
    "            R = self.REG*trace if trace > 0 else self.REG\n",
    "            G.flat[::Z.shape[1] + 1] += R\n",
    "            w = linalg.solve(G, v, sym_pos=True)\n",
    "            W[i,:] = w / np.sum(w)\n",
    "        \n",
    "        print(\"W before sparse: \", W.shape)\n",
    "        indptr = np.arange(0, n_samples * n_neighbors + 1, n_neighbors)\n",
    "        W = sparse.csr_matrix((W.ravel(), X_NN_INDX.ravel(), indptr),shape=(n_samples, n_samples))\n",
    "        print(\"W after sparse: \", W.shape)\n",
    "        \n",
    "        ## Calulate M\n",
    "        M = np.eye(W.shape[0]) - W\n",
    "        M = sparse.coo_matrix(M.T * M).tocsr() \n",
    "        self.M_ = M\n",
    "        \n",
    "        ## Calculate Eigenvalues\n",
    "        random_state = skl.utils.check_random_state(42)\n",
    "        v0 = random_state.uniform(-1, 1, M.shape[0])\n",
    "        v, w = sparse.linalg.eigsh(M, d_out + 1, sigma=0.0, tol=self.TOL, maxiter=self.MAX_ITER, v0=v0)\n",
    "        \n",
    "        self.embedding_vectors_ =  w[:, 1:]\n",
    "        return self\n",
    "    \n",
    "    def transform(self, X):\n",
    "        \"\"\"Map new vectors X to embedding space\n",
    "        \n",
    "        Use the fitted model to map new vectors to the space with dimension n_components.\n",
    "        \n",
    "        Args:\n",
    "            X (np.ndarray): Input array with shape (new_samples, dim)\n",
    "            \n",
    "        Returns:\n",
    "            y (np.ndarray): Embedded vectors with shape (new_samples, n_components)\n",
    "        \"\"\"\n",
    "        check_is_fitted(self, [\"embedding_vectors_\", \"nbrs_X\"])\n",
    "        \n",
    "        # identify the K nearest neighbors of x among the training inputs\n",
    "        ind = self.nbrs_X.kneighbors(X, n_neighbors=self.n_neighbors, return_distance=False)\n",
    "        \n",
    "        ## Calculate W that reconstructs x best\n",
    "        Z = self.X_[ind]\n",
    "        print(Z.shape)\n",
    "        \n",
    "        n_samples, n_neighbors = X.shape[0], Z.shape[1]\n",
    "        W = np.empty((n_samples, n_neighbors))\n",
    "        v = np.ones(n_neighbors)\n",
    "        \n",
    "        from scipy import linalg, sparse\n",
    "        \n",
    "        for i, A in enumerate(Z.transpose(0, 2, 1)):\n",
    "            C = A.T - X[i]\n",
    "            G = np.dot(C, C.T)\n",
    "            trace = np.trace(G)\n",
    "            R = self.REG*trace if trace > 0 else self.REG\n",
    "            G.flat[::Z.shape[1] + 1] += R\n",
    "            w = linalg.solve(G, v, sym_pos=True)\n",
    "            W[i,:] = w / np.sum(w)\n",
    "        \n",
    "        ## output y = sum_j w_j Y_j where the sum is over the outputs corresponding to the neighbors of x\n",
    "        X_new = np.empty((X.shape[0], self.n_components))\n",
    "        for i in range(X.shape[0]):\n",
    "            X_new[i] = np.dot(self.embedding_vectors_[ind[i]].T, W[i])\n",
    "        \n",
    "        return X_new\n",
    "\n",
    "    def inverse_transform(self, y):\n",
    "        \"\"\"Map new vectors y to input space with dimension dim.\n",
    "        \n",
    "        Use the fitted model to map vectors y to the original input space.\n",
    "        \n",
    "        Args:\n",
    "            y (np.ndarray): Input array with shape (new_samples, n_components)\n",
    "            \n",
    "        Returns:\n",
    "            X (np.ndarray): Vectors with shape (new_samples, dim)\n",
    "        \"\"\"\n",
    "        # similiar to transform method\n",
    "        # 1) identify the nearest neighbors of y among the training outputs \n",
    "        # 2) compute the analogous reconstruction weights\n",
    "        # 3) output x = Sum_j w_j X_j\n",
    "        \n",
    "        \n",
    "        knn = NearestNeighbors(self.n_neighbors+1,  metric=\"euclidean\", algorithm=\"ball_tree\")\n",
    "        knn.fit(self.embedding_vectors_)\n",
    "        self.nbrs_y =  knn\n",
    "        \n",
    "        check_is_fitted(self, [\"embedding_vectors_\", \"X_\", \"nbrs_y\"])\n",
    "        \n",
    "        ind = self.nbrs_y.kneighbors(y, n_neighbors=self.n_neighbors, return_distance=False)\n",
    "        \n",
    "        Z = self.embedding_vectors_[ind]\n",
    "        \n",
    "        n_samples, n_neighbors = y.shape[0], Z.shape[1]\n",
    "        W = np.empty((n_samples, n_neighbors))\n",
    "        v = np.ones(n_neighbors)\n",
    "        \n",
    "        from scipy import linalg, sparse\n",
    "        \n",
    "        for i, A in enumerate(Z.transpose(0, 2, 1)):\n",
    "            C = A.T - y[i]\n",
    "            G = np.dot(C, C.T)\n",
    "            trace = np.trace(G)\n",
    "            R = self.REG*trace if trace > 0 else self.REG\n",
    "            G.flat[::Z.shape[1] + 1] += R\n",
    "            w = linalg.solve(G, v, sym_pos=True)\n",
    "            W[i,:] = w / np.sum(w)\n",
    "        \n",
    "        \n",
    "        X_old = np.empty((y.shape[0], self.X_.shape[1]))\n",
    "        for i in range(y.shape[0]):\n",
    "            X_old[i] = np.dot(self.X_[ind[i]].T, W[i])\n",
    "        \n",
    "        return X_old"
   ]
  },
  {
   "cell_type": "markdown",
   "metadata": {},
   "source": [
    "<p style=\"background-color:#adebad;\">\n",
    "    Create an instance of your LLE class with default parameters and fit the MNIST validation set. Record the execution time (should be about 30 sec). Furthermore, create an instance of the sklearn LLE class, and fit it with the same parameters. Again record the execution time.  \n",
    "    Note, the dots should be filled in by you.\n",
    "</p>"
   ]
  },
  {
   "cell_type": "code",
   "execution_count": null,
   "metadata": {},
   "outputs": [],
   "source": [
    "%%time\n",
    "myLLE = LocallyLinearEmbedding()\n",
    "myLLE.fit(mnist.validation.images)\n",
    "myLLE"
   ]
  },
  {
   "cell_type": "code",
   "execution_count": 10,
   "metadata": {},
   "outputs": [
    {
     "name": "stdout",
     "output_type": "stream",
     "text": [
      "CPU times: user 45.7 s, sys: 456 ms, total: 46.1 s\n",
      "Wall time: 39.7 s\n"
     ]
    }
   ],
   "source": [
    "%%time\n",
    "from sklearn import manifold\n",
    "sklLLE = skl.manifold.LocallyLinearEmbedding(random_state=42)\n",
    "sklLLE.fit(mnist.validation.images)"
   ]
  },
  {
   "cell_type": "code",
   "execution_count": 11,
   "metadata": {},
   "outputs": [
    {
     "name": "stdout",
     "output_type": "stream",
     "text": [
      "(5000, 784)\n",
      "(5000, 2)\n"
     ]
    },
    {
     "data": {
      "image/png": "[encoded data removed]",
      "text/plain": [
       "<matplotlib.figure.Figure at 0x7ff35d927978>"
      ]
     },
     "metadata": {},
     "output_type": "display_data"
    },
    {
     "data": {
      "image/png": "[encoded data removed]",
      "text/plain": [
       "<matplotlib.figure.Figure at 0x7ff35d09e1d0>"
      ]
     },
     "metadata": {},
     "output_type": "display_data"
    }
   ],
   "source": [
    "print(mnist.validation.images.shape)\n",
    "print(myLLE.embedding_vectors_.shape)\n",
    "plt.plot(myLLE.embedding_vectors_)\n",
    "plt.show()\n",
    "plt.plot(sklLLE.embedding_)\n",
    "plt.show()"
   ]
  },
  {
   "cell_type": "markdown",
   "metadata": {},
   "source": [
    "<p style=\"background-color:#adebad;\">\n",
    "    Plot myLLE.embedding\\_vectors\\_ and sklLLE.embedding\\_vectors\\_ in two separate plots.\n",
    "</p>"
   ]
  },
  {
   "cell_type": "markdown",
   "metadata": {},
   "source": [
    "<h2 style=\"background-color:#f0b375;\"> Problem 2 </h2>\n",
    "\n",
    "<p style=\"background-color:#adebad;\">\n",
    "    <ul style=\"background-color:#adebad;\">\n",
    "        <li> Implement the <b>transform method</b> for the template class LocallyLinearEmbedding, according to the contract outlined in its docstring.\n",
    "        </li>\n",
    "        \n",
    "        <li>Use myLLE.transform and sklLLE.transform to map the <b>MNIST test set</b> to the LLE embedding space (Maybe you have to repeat the instantiation and fitting before you can transform). sklLLE takes about 50 sec.\n",
    "        </li>\n",
    "        \n",
    "        <li>\n",
    "            Plot both embeddings in two separate plots for comparison.\n",
    "        </li>\n",
    "    </ul>\n",
    "</p>"
   ]
  },
  {
   "cell_type": "code",
   "execution_count": 12,
   "metadata": {},
   "outputs": [
    {
     "name": "stdout",
     "output_type": "stream",
     "text": [
      "(10000, 5, 784)\n",
      "CPU times: user 48.2 s, sys: 76.3 ms, total: 48.2 s\n",
      "Wall time: 48.2 s\n"
     ]
    }
   ],
   "source": [
    "%%time\n",
    "my_embedding = myLLE.transform(mnist.test.images)"
   ]
  },
  {
   "cell_type": "code",
   "execution_count": 13,
   "metadata": {},
   "outputs": [
    {
     "name": "stdout",
     "output_type": "stream",
     "text": [
      "CPU times: user 1min 10s, sys: 132 ms, total: 1min 10s\n",
      "Wall time: 1min 10s\n"
     ]
    }
   ],
   "source": [
    "%%time\n",
    "skl_embedding = sklLLE.transform(mnist.test.images)"
   ]
  },
  {
   "cell_type": "markdown",
   "metadata": {},
   "source": [
    "<h2 style=\"background-color:#f0b375;\"> Problem 3 </h2>\n",
    "\n",
    "<ul style=\"background-color:#adebad;\">\n",
    "        <li> Implement the <b>inverse_transform method</b> for the template class LocallyLinearEmbedding, according to the contract outlined in its docstring.\n",
    "        </li>\n",
    "        <li>\n",
    "        Use myLLE.transform and myLLE.inverse_transform to embed the first digit of the MNIST training set and then recover it. \n",
    "        </li>\n",
    "       \n",
    "    </ul>"
   ]
  },
  {
   "cell_type": "code",
   "execution_count": 14,
   "metadata": {},
   "outputs": [
    {
     "name": "stdout",
     "output_type": "stream",
     "text": [
      "(1, 5, 784)\n"
     ]
    },
    {
     "ename": "NameError",
     "evalue": "name 'K' is not defined",
     "output_type": "error",
     "traceback": [
      "\u001b[0;31m---------------------------------------------------------------------------\u001b[0m",
      "\u001b[0;31mNameError\u001b[0m                                 Traceback (most recent call last)",
      "\u001b[0;32m<ipython-input-14-d3c9d82dc350>\u001b[0m in \u001b[0;36m<module>\u001b[0;34m()\u001b[0m\n\u001b[1;32m      1\u001b[0m \u001b[0membedded_digit\u001b[0m \u001b[0;34m=\u001b[0m \u001b[0mmyLLE\u001b[0m\u001b[0;34m.\u001b[0m\u001b[0mtransform\u001b[0m\u001b[0;34m(\u001b[0m\u001b[0mmnist\u001b[0m\u001b[0;34m.\u001b[0m\u001b[0mtest\u001b[0m\u001b[0;34m.\u001b[0m\u001b[0mimages\u001b[0m\u001b[0;34m[\u001b[0m\u001b[0;36m0\u001b[0m\u001b[0;34m]\u001b[0m\u001b[0;34m.\u001b[0m\u001b[0mreshape\u001b[0m\u001b[0;34m(\u001b[0m\u001b[0;36m1\u001b[0m\u001b[0;34m,\u001b[0m\u001b[0;34m-\u001b[0m\u001b[0;36m1\u001b[0m\u001b[0;34m)\u001b[0m\u001b[0;34m)\u001b[0m\u001b[0;34m\u001b[0m\u001b[0m\n\u001b[0;32m----> 2\u001b[0;31m \u001b[0mreconstructed_digit\u001b[0m \u001b[0;34m=\u001b[0m \u001b[0mmyLLE\u001b[0m\u001b[0;34m.\u001b[0m\u001b[0minverse_transform\u001b[0m\u001b[0;34m(\u001b[0m\u001b[0membedded_digit\u001b[0m\u001b[0;34m)\u001b[0m\u001b[0;34m\u001b[0m\u001b[0m\n\u001b[0m",
      "\u001b[0;32m<ipython-input-8-d6ae66828125>\u001b[0m in \u001b[0;36minverse_transform\u001b[0;34m(self, y)\u001b[0m\n\u001b[1;32m    144\u001b[0m \u001b[0;34m\u001b[0m\u001b[0m\n\u001b[1;32m    145\u001b[0m \u001b[0;34m\u001b[0m\u001b[0m\n\u001b[0;32m--> 146\u001b[0;31m         \u001b[0mknn\u001b[0m \u001b[0;34m=\u001b[0m \u001b[0mNearestNeighbors\u001b[0m\u001b[0;34m(\u001b[0m\u001b[0mK\u001b[0m \u001b[0;34m+\u001b[0m \u001b[0;36m1\u001b[0m\u001b[0;34m,\u001b[0m  \u001b[0mmetric\u001b[0m\u001b[0;34m=\u001b[0m\u001b[0;34m\"euclidean\"\u001b[0m\u001b[0;34m,\u001b[0m \u001b[0malgorithm\u001b[0m\u001b[0;34m=\u001b[0m\u001b[0;34m\"ball_tree\"\u001b[0m\u001b[0;34m)\u001b[0m\u001b[0;34m\u001b[0m\u001b[0m\n\u001b[0m\u001b[1;32m    147\u001b[0m         \u001b[0mknn\u001b[0m\u001b[0;34m.\u001b[0m\u001b[0mfit\u001b[0m\u001b[0;34m(\u001b[0m\u001b[0mself\u001b[0m\u001b[0;34m.\u001b[0m\u001b[0membedding_vectors_\u001b[0m\u001b[0;34m)\u001b[0m\u001b[0;34m\u001b[0m\u001b[0m\n\u001b[1;32m    148\u001b[0m         \u001b[0mself\u001b[0m\u001b[0;34m.\u001b[0m\u001b[0mnbrs_y\u001b[0m \u001b[0;34m=\u001b[0m  \u001b[0mknn\u001b[0m\u001b[0;34m\u001b[0m\u001b[0m\n",
      "\u001b[0;31mNameError\u001b[0m: name 'K' is not defined"
     ]
    }
   ],
   "source": [
    "embedded_digit = myLLE.transform(mnist.test.images[0].reshape(1,-1))\n",
    "reconstructed_digit = myLLE.inverse_transform(embedded_digit)"
   ]
  },
  {
   "cell_type": "markdown",
   "metadata": {},
   "source": [
    "<ul style=\"background-color:#adebad;\">\n",
    "        <li>\n",
    "        Plot the original digit and the reconstructed digit for comparison.\n",
    "        </li>\n",
    "    </ul>"
   ]
  },
  {
   "cell_type": "code",
   "execution_count": null,
   "metadata": {
    "collapsed": true
   },
   "outputs": [],
   "source": []
  },
  {
   "cell_type": "markdown",
   "metadata": {},
   "source": [
    "<h2 style=\"background-color:#f0b375;\"> Problem 4 </h2>\n",
    "\n",
    "<ul style=\"background-color:#adebad;\">\n",
    "        <li>\n",
    "        Perform more experiments (embeddings, reconstructions) with different parameters (e.g. n_neighbors, n_components).  \n",
    "        Describe and plot the results. Make sure that it is clear what the reason of your experiments is, and what the outcome is.\n",
    "        </li>\n",
    "    </ul>"
   ]
  },
  {
   "cell_type": "code",
   "execution_count": null,
   "metadata": {
    "collapsed": true
   },
   "outputs": [],
   "source": []
  },
  {
   "cell_type": "markdown",
   "metadata": {},
   "source": [
    "<h2 style=\"background-color:#ef7575;\">\n",
    "Extension 1  \n",
    "<span style=font-size:50%> Complete two Extensions to get the grade \"2\" </span>\n",
    "</h2>\n",
    "\n",
    "<ul style=\"background-color:#adebad;\">\n",
    "        <li>\n",
    "        Plot the linear interpolation between two digits in the input space compared to the reconstruction along the linear interpolation of their embeddings.\n",
    "        </li>\n",
    "    </ul>"
   ]
  },
  {
   "cell_type": "code",
   "execution_count": null,
   "metadata": {
    "collapsed": true
   },
   "outputs": [],
   "source": []
  },
  {
   "cell_type": "markdown",
   "metadata": {},
   "source": [
    "<ul style=\"background-color:#adebad;\">\n",
    "        <li>\n",
    "        Select an image of a digit \"6\" and a digit \"8\".  \n",
    "        Rotate both input images by 360° in steps of 1° and create the embedding of each rotation.  \n",
    "        Plot the corresponding reconstructions, and the respective path in the 2D embedding space.  \n",
    "        </li>\n",
    "    </ul>"
   ]
  },
  {
   "cell_type": "code",
   "execution_count": null,
   "metadata": {
    "collapsed": true
   },
   "outputs": [],
   "source": []
  },
  {
   "cell_type": "markdown",
   "metadata": {},
   "source": [
    "<h2 style=\"background-color:#ef7575;\"> Extension 2 </h2>\n",
    "\n",
    "<ul style=\"background-color:#adebad;\">\n",
    "        <li>\n",
    "        Create a matrix plot of the matrix M\\_.  \n",
    "        Make sure to permute the rows and columns according to the digit labels, so that you can actually observe the block structure.\n",
    "        </li>\n",
    "        <li>\n",
    "        Plot the spectrum (eigenvalues) of M\\_. Can you identify a good cutoff? What could you use the value of the cutoff for?\n",
    "        </li>\n",
    "    </ul>"
   ]
  },
  {
   "cell_type": "code",
   "execution_count": null,
   "metadata": {
    "collapsed": true
   },
   "outputs": [],
   "source": []
  },
  {
   "cell_type": "markdown",
   "metadata": {},
   "source": [
    "<h2 style=\"background-color:#ef7575;\"> Extension 3 </h2>\n",
    "\n",
    "<ul style=\"background-color:#adebad;\">\n",
    "        <li>\n",
    "        Train a multilayer perceptron with two hidden layers (some width between 1000-3000) on the MNIST training set (e.g. sklearn.neural_network.MLPClassifier).\n",
    "        </li>\n",
    "    </ul>"
   ]
  },
  {
   "cell_type": "code",
   "execution_count": null,
   "metadata": {
    "collapsed": true
   },
   "outputs": [],
   "source": []
  },
  {
   "cell_type": "markdown",
   "metadata": {},
   "source": [
    "<ul style=\"background-color:#adebad;\">\n",
    "        <li>\n",
    "        \"Embed\" the MNIST validation set and the first 5000 MNIST training samples with the trained MLP.  \n",
    "        To do so, use the coefs_ of the MLP to map the input digits to the first and second hidden layer.  \n",
    "        In total, you should have four \"embeddings\": mnist_valid_1st_hidden, mnist_valid_2nd_hidden, mnist_train_1st_hidden and mnist_train_2nd_hidden.\n",
    "        </li>\n",
    "    </ul>"
   ]
  },
  {
   "cell_type": "code",
   "execution_count": null,
   "metadata": {
    "collapsed": true
   },
   "outputs": [],
   "source": []
  },
  {
   "cell_type": "markdown",
   "metadata": {},
   "source": [
    "<ul style=\"background-color:#adebad;\">\n",
    "        <li>\n",
    "        Use LLE to embed the \"embeddings\" and investigate how the embedding structure changes from raw input -> first hidden layer -> second hidden layer.\n",
    "        </li>\n",
    "    </ul>"
   ]
  },
  {
   "cell_type": "code",
   "execution_count": null,
   "metadata": {
    "collapsed": true
   },
   "outputs": [],
   "source": []
  },
  {
   "cell_type": "markdown",
   "metadata": {},
   "source": [
    "<ul style=\"background-color:#adebad;\">\n",
    "        <li>\n",
    "        Repeat the experiment, but this time with an autoencoder (e.g. sklearn.neural_network.MLPRegressor with fit(X,X)).  \n",
    "        The hidden layers should be 200-500 units wide.  \n",
    "        Not necessary for completion of Extension 3.\n",
    "        </li>\n",
    "    </ul>"
   ]
  },
  {
   "cell_type": "code",
   "execution_count": null,
   "metadata": {
    "collapsed": true
   },
   "outputs": [],
   "source": []
  }
 ],
 "metadata": {
  "kernelspec": {
   "display_name": "Python 3",
   "language": "python",
   "name": "python3"
  },
  "language_info": {
   "codemirror_mode": {
    "name": "ipython",
    "version": 3
   },
   "file_extension": ".py",
   "mimetype": "text/x-python",
   "name": "python",
   "nbconvert_exporter": "python",
   "pygments_lexer": "ipython3",
   "version": "3.5.3"
  }
 },
 "nbformat": 4,
 "nbformat_minor": 2
}
